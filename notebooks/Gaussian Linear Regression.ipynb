{
 "cells": [
  {
   "cell_type": "code",
   "execution_count": 3,
   "metadata": {
    "collapsed": true
   },
   "outputs": [],
   "source": [
    "import numpy as np\n",
    "import matplotlib.pyplot as plt"
   ]
  },
  {
   "cell_type": "code",
   "execution_count": 98,
   "metadata": {
    "collapsed": true
   },
   "outputs": [],
   "source": [
    "def add_bias(X):\n",
    "    N = X.shape[0]\n",
    "    V = np.ones((N, X.shape[1]+1))\n",
    "    V[:, 0:-1] = X\n",
    "    return V"
   ]
  },
  {
   "cell_type": "code",
   "execution_count": 138,
   "metadata": {},
   "outputs": [],
   "source": [
    "def train(X, Y, A=None):\n",
    "    \"\"\" X : (N x P) , states\n",
    "        Y : (N x M) , predictors\n",
    "        A : (N x N) , weights\n",
    "    \"\"\"\n",
    "    if A is None:\n",
    "        N = X.shape[0]\n",
    "        X = add_bias(X)\n",
    "        P = np.linalg.pinv(np.dot(X.transpose(), X))\n",
    "        V = np.dot(P, X.transpose())\n",
    "        w = np.dot(V, Y)\n",
    "        Y_hat = np.dot(X, w)\n",
    "        Y_err = np.power((Y - Y_hat), 2.0)\n",
    "        sigma2 = (1.0/N)*np.sum(Y_err)\n",
    "        return w, sigma2\n",
    "    "
   ]
  },
  {
   "cell_type": "code",
   "execution_count": 140,
   "metadata": {
    "collapsed": true
   },
   "outputs": [],
   "source": [
    "def predict(X, w, A=None):\n",
    "    \"\"\" X : (N x P) , states\n",
    "        A : (N x N), weights\n",
    "    \"\"\"\n",
    "    if A is None:\n",
    "        N = X.shape[0]\n",
    "        X = add_bias(X)\n",
    "        Y_hat = np.dot(X, w)\n",
    "        return Y_hat        "
   ]
  },
  {
   "cell_type": "markdown",
   "metadata": {},
   "source": [
    "### Generate some data"
   ]
  },
  {
   "cell_type": "code",
   "execution_count": 136,
   "metadata": {},
   "outputs": [],
   "source": [
    "w = np.array([[1, 1]])\n",
    "\n",
    "num_samples=100\n",
    "\n",
    "x = np.linspace(0, 10, num_samples).reshape(num_samples, 1)\n",
    "x_bias = add_bias(x)\n",
    "\n",
    "y = np.dot(w, np.transpose(x_bias)) + np.random.normal(0, 0.5, num_samples)\n",
    "y = y.reshape(num_samples, 1)\n"
   ]
  },
  {
   "cell_type": "markdown",
   "metadata": {},
   "source": [
    "### Train"
   ]
  },
  {
   "cell_type": "code",
   "execution_count": 142,
   "metadata": {},
   "outputs": [
    {
     "data": {
      "text/plain": [
       "(100, 1)"
      ]
     },
     "execution_count": 142,
     "metadata": {},
     "output_type": "execute_result"
    }
   ],
   "source": [
    "w_train, sigma2_train = train(x, y)\n",
    "\n",
    "y_hat = predict(x, w_train)\n"
   ]
  },
  {
   "cell_type": "markdown",
   "metadata": {},
   "source": [
    "### Plot example"
   ]
  },
  {
   "cell_type": "code",
   "execution_count": 151,
   "metadata": {},
   "outputs": [
    {
     "data": {
      "image/png": "[encoded data removed]",
      "text/plain": [
       "<matplotlib.figure.Figure at 0x7ff7a9901310>"
      ]
     },
     "metadata": {},
     "output_type": "display_data"
    }
   ],
   "source": [
    "plt.figure()\n",
    "plt.plot(x, y, 'o')\n",
    "\n",
    "plt.plot(x, y_hat, '--k')\n",
    "error = 2*np.sqrt(sigma2_train)\n",
    "plt.fill_between(x.flatten(), y_hat.flatten()-error, y_hat.flatten()+error, alpha=0.2)\n",
    "\n",
    "plt.show()\n"
   ]
  }
 ],
 "metadata": {
  "kernelspec": {
   "display_name": "Python 2",
   "language": "python",
   "name": "python2"
  },
  "language_info": {
   "codemirror_mode": {
    "name": "ipython",
    "version": 2
   },
   "file_extension": ".py",
   "mimetype": "text/x-python",
   "name": "python",
   "nbconvert_exporter": "python",
   "pygments_lexer": "ipython2",
   "version": "2.7.12"
  }
 },
 "nbformat": 4,
 "nbformat_minor": 2
}
